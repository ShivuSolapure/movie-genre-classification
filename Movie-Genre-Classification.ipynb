{
 "cells": [
  {
   "cell_type": "markdown",
   "id": "0e8d6180",
   "metadata": {},
   "source": [
    "# Movie Genre Classification"
   ]
  },
  {
   "cell_type": "code",
   "execution_count": 1,
   "id": "2161037b",
   "metadata": {},
   "outputs": [],
   "source": [
    "import pandas as pd\n",
    "import numpy as np\n",
    "import matplotlib.pyplot as plt\n",
    "import seaborn as sns\n",
    "import re\n",
    "import nltk\n",
    "import os\n",
    "from nltk.tokenize import word_tokenize\n",
    "from nltk.stem import WordNetLemmatizer\n",
    "from nltk.corpus import stopwords\n",
    "from nltk.stem.porter import PorterStemmer\n",
    "from wordcloud import WordCloud\n",
    "\n",
    "import warnings\n",
    "warnings.filterwarnings(\"ignore\")"
   ]
  },
  {
   "cell_type": "code",
   "execution_count": 2,
   "id": "c2fc7bc8",
   "metadata": {},
   "outputs": [
    {
     "name": "stderr",
     "output_type": "stream",
     "text": [
      "[nltk_data] Downloading package punkt to\n",
      "[nltk_data]     C:\\Users\\solap\\AppData\\Roaming\\nltk_data...\n",
      "[nltk_data]   Package punkt is already up-to-date!\n",
      "[nltk_data] Downloading package stopwords to\n",
      "[nltk_data]     C:\\Users\\solap\\AppData\\Roaming\\nltk_data...\n",
      "[nltk_data]   Package stopwords is already up-to-date!\n",
      "[nltk_data] Downloading package wordnet to\n",
      "[nltk_data]     C:\\Users\\solap\\AppData\\Roaming\\nltk_data...\n",
      "[nltk_data]   Package wordnet is already up-to-date!\n"
     ]
    },
    {
     "data": {
      "text/plain": [
       "True"
      ]
     },
     "execution_count": 2,
     "metadata": {},
     "output_type": "execute_result"
    }
   ],
   "source": [
    "custom_download_path = '/kaggle/working/nltk_data'\n",
    "os.makedirs(custom_download_path, exist_ok=True)\n",
    "nltk.data.path.append(custom_download_path)\n",
    "nltk.download('punkt')\n",
    "nltk.download('stopwords')\n",
    "nltk.download('wordnet')"
   ]
  },
  {
   "cell_type": "code",
   "execution_count": 3,
   "id": "5c708f55",
   "metadata": {},
   "outputs": [],
   "source": [
    "md=pd.read_csv(\"Desktop/Codsoft/datasets/train_data.txt\",sep=':::',engine='python',names=['Title','Genre','Description'])"
   ]
  },
  {
   "cell_type": "code",
   "execution_count": 4,
   "id": "0f118e2e",
   "metadata": {},
   "outputs": [
    {
     "data": {
      "text/html": [
       "<div>\n",
       "<style scoped>\n",
       "    .dataframe tbody tr th:only-of-type {\n",
       "        vertical-align: middle;\n",
       "    }\n",
       "\n",
       "    .dataframe tbody tr th {\n",
       "        vertical-align: top;\n",
       "    }\n",
       "\n",
       "    .dataframe thead th {\n",
       "        text-align: right;\n",
       "    }\n",
       "</style>\n",
       "<table border=\"1\" class=\"dataframe\">\n",
       "  <thead>\n",
       "    <tr style=\"text-align: right;\">\n",
       "      <th></th>\n",
       "      <th>Title</th>\n",
       "      <th>Genre</th>\n",
       "      <th>Description</th>\n",
       "    </tr>\n",
       "  </thead>\n",
       "  <tbody>\n",
       "    <tr>\n",
       "      <th>1</th>\n",
       "      <td>Oscar et la dame rose (2009)</td>\n",
       "      <td>drama</td>\n",
       "      <td>Listening in to a conversation between his do...</td>\n",
       "    </tr>\n",
       "    <tr>\n",
       "      <th>2</th>\n",
       "      <td>Cupid (1997)</td>\n",
       "      <td>thriller</td>\n",
       "      <td>A brother and sister with a past incestuous r...</td>\n",
       "    </tr>\n",
       "    <tr>\n",
       "      <th>3</th>\n",
       "      <td>Young, Wild and Wonderful (1980)</td>\n",
       "      <td>adult</td>\n",
       "      <td>As the bus empties the students for their fie...</td>\n",
       "    </tr>\n",
       "    <tr>\n",
       "      <th>4</th>\n",
       "      <td>The Secret Sin (1915)</td>\n",
       "      <td>drama</td>\n",
       "      <td>To help their unemployed father make ends mee...</td>\n",
       "    </tr>\n",
       "    <tr>\n",
       "      <th>5</th>\n",
       "      <td>The Unrecovered (2007)</td>\n",
       "      <td>drama</td>\n",
       "      <td>The film's title refers not only to the un-re...</td>\n",
       "    </tr>\n",
       "    <tr>\n",
       "      <th>6</th>\n",
       "      <td>Quality Control (2011)</td>\n",
       "      <td>documentary</td>\n",
       "      <td>Quality Control consists of a series of 16mm ...</td>\n",
       "    </tr>\n",
       "    <tr>\n",
       "      <th>7</th>\n",
       "      <td>\"Pink Slip\" (2009)</td>\n",
       "      <td>comedy</td>\n",
       "      <td>In tough economic times Max and Joey have all...</td>\n",
       "    </tr>\n",
       "    <tr>\n",
       "      <th>8</th>\n",
       "      <td>One Step Away (1985)</td>\n",
       "      <td>crime</td>\n",
       "      <td>Ron Petrie (Keanu Reeves) is a troubled teen ...</td>\n",
       "    </tr>\n",
       "    <tr>\n",
       "      <th>9</th>\n",
       "      <td>\"Desperate Hours\" (2016)</td>\n",
       "      <td>reality-tv</td>\n",
       "      <td>A sudden calamitous event, causing great loss...</td>\n",
       "    </tr>\n",
       "    <tr>\n",
       "      <th>10</th>\n",
       "      <td>Spirits (2014/I)</td>\n",
       "      <td>horror</td>\n",
       "      <td>Four high school students embark on a terrify...</td>\n",
       "    </tr>\n",
       "  </tbody>\n",
       "</table>\n",
       "</div>"
      ],
      "text/plain": [
       "                                 Title          Genre  \\\n",
       "1        Oscar et la dame rose (2009)          drama    \n",
       "2                        Cupid (1997)       thriller    \n",
       "3    Young, Wild and Wonderful (1980)          adult    \n",
       "4               The Secret Sin (1915)          drama    \n",
       "5              The Unrecovered (2007)          drama    \n",
       "6              Quality Control (2011)    documentary    \n",
       "7                  \"Pink Slip\" (2009)         comedy    \n",
       "8                One Step Away (1985)          crime    \n",
       "9            \"Desperate Hours\" (2016)     reality-tv    \n",
       "10                   Spirits (2014/I)         horror    \n",
       "\n",
       "                                          Description  \n",
       "1    Listening in to a conversation between his do...  \n",
       "2    A brother and sister with a past incestuous r...  \n",
       "3    As the bus empties the students for their fie...  \n",
       "4    To help their unemployed father make ends mee...  \n",
       "5    The film's title refers not only to the un-re...  \n",
       "6    Quality Control consists of a series of 16mm ...  \n",
       "7    In tough economic times Max and Joey have all...  \n",
       "8    Ron Petrie (Keanu Reeves) is a troubled teen ...  \n",
       "9    A sudden calamitous event, causing great loss...  \n",
       "10   Four high school students embark on a terrify...  "
      ]
     },
     "execution_count": 4,
     "metadata": {},
     "output_type": "execute_result"
    }
   ],
   "source": [
    "md.head(10)"
   ]
  },
  {
   "cell_type": "code",
   "execution_count": 5,
   "id": "42fca6ba",
   "metadata": {},
   "outputs": [
    {
     "name": "stdout",
     "output_type": "stream",
     "text": [
      "shape (54214, 3)\n"
     ]
    }
   ],
   "source": [
    "print(\"shape\",md.shape)"
   ]
  },
  {
   "cell_type": "code",
   "execution_count": 6,
   "id": "fa3acabd",
   "metadata": {},
   "outputs": [
    {
     "name": "stdout",
     "output_type": "stream",
     "text": [
      "<class 'pandas.core.frame.DataFrame'>\n",
      "Int64Index: 54214 entries, 1 to 54214\n",
      "Data columns (total 3 columns):\n",
      " #   Column       Non-Null Count  Dtype \n",
      "---  ------       --------------  ----- \n",
      " 0   Title        54214 non-null  object\n",
      " 1   Genre        54214 non-null  object\n",
      " 2   Description  54214 non-null  object\n",
      "dtypes: object(3)\n",
      "memory usage: 1.7+ MB\n"
     ]
    }
   ],
   "source": [
    "md.info()"
   ]
  },
  {
   "cell_type": "code",
   "execution_count": 7,
   "id": "1bfc7992",
   "metadata": {},
   "outputs": [
    {
     "data": {
      "text/plain": [
       "Title          0\n",
       "Genre          0\n",
       "Description    0\n",
       "dtype: int64"
      ]
     },
     "execution_count": 7,
     "metadata": {},
     "output_type": "execute_result"
    }
   ],
   "source": [
    "md.isnull().sum()"
   ]
  },
  {
   "cell_type": "code",
   "execution_count": 8,
   "id": "a82e01a1",
   "metadata": {},
   "outputs": [
    {
     "data": {
      "text/plain": [
       "0"
      ]
     },
     "execution_count": 8,
     "metadata": {},
     "output_type": "execute_result"
    }
   ],
   "source": [
    "dupe = md.duplicated().sum()\n",
    "dupe"
   ]
  },
  {
   "cell_type": "code",
   "execution_count": 9,
   "id": "f61d355c",
   "metadata": {},
   "outputs": [
    {
     "data": {
      "text/html": [
       "<div>\n",
       "<style scoped>\n",
       "    .dataframe tbody tr th:only-of-type {\n",
       "        vertical-align: middle;\n",
       "    }\n",
       "\n",
       "    .dataframe tbody tr th {\n",
       "        vertical-align: top;\n",
       "    }\n",
       "\n",
       "    .dataframe thead th {\n",
       "        text-align: right;\n",
       "    }\n",
       "</style>\n",
       "<table border=\"1\" class=\"dataframe\">\n",
       "  <thead>\n",
       "    <tr style=\"text-align: right;\">\n",
       "      <th></th>\n",
       "      <th>Title</th>\n",
       "      <th>Genre</th>\n",
       "      <th>Description</th>\n",
       "    </tr>\n",
       "  </thead>\n",
       "  <tbody>\n",
       "    <tr>\n",
       "      <th>count</th>\n",
       "      <td>54214</td>\n",
       "      <td>54214</td>\n",
       "      <td>54214</td>\n",
       "    </tr>\n",
       "    <tr>\n",
       "      <th>unique</th>\n",
       "      <td>54214</td>\n",
       "      <td>27</td>\n",
       "      <td>54086</td>\n",
       "    </tr>\n",
       "    <tr>\n",
       "      <th>top</th>\n",
       "      <td>Oscar et la dame rose (2009)</td>\n",
       "      <td>drama</td>\n",
       "      <td>Grammy - music award of the American academy ...</td>\n",
       "    </tr>\n",
       "    <tr>\n",
       "      <th>freq</th>\n",
       "      <td>1</td>\n",
       "      <td>13613</td>\n",
       "      <td>12</td>\n",
       "    </tr>\n",
       "  </tbody>\n",
       "</table>\n",
       "</div>"
      ],
      "text/plain": [
       "                                 Title    Genre  \\\n",
       "count                            54214    54214   \n",
       "unique                           54214       27   \n",
       "top      Oscar et la dame rose (2009)    drama    \n",
       "freq                                 1    13613   \n",
       "\n",
       "                                              Description  \n",
       "count                                               54214  \n",
       "unique                                              54086  \n",
       "top      Grammy - music award of the American academy ...  \n",
       "freq                                                   12  "
      ]
     },
     "execution_count": 9,
     "metadata": {},
     "output_type": "execute_result"
    }
   ],
   "source": [
    "md.describe()"
   ]
  },
  {
   "cell_type": "code",
   "execution_count": 10,
   "id": "05ee5060",
   "metadata": {},
   "outputs": [
    {
     "data": {
      "text/plain": [
       " drama           13613\n",
       " documentary     13096\n",
       " comedy           7447\n",
       " short            5073\n",
       " horror           2204\n",
       " thriller         1591\n",
       " action           1315\n",
       " western          1032\n",
       " reality-tv        884\n",
       " family            784\n",
       " adventure         775\n",
       " music             731\n",
       " romance           672\n",
       " sci-fi            647\n",
       " adult             590\n",
       " crime             505\n",
       " animation         498\n",
       " sport             432\n",
       " talk-show         391\n",
       " fantasy           323\n",
       " mystery           319\n",
       " musical           277\n",
       " biography         265\n",
       " history           243\n",
       " game-show         194\n",
       " news              181\n",
       " war               132\n",
       "Name: Genre, dtype: int64"
      ]
     },
     "execution_count": 10,
     "metadata": {},
     "output_type": "execute_result"
    }
   ],
   "source": [
    "md['Genre'].value_counts()"
   ]
  },
  {
   "cell_type": "code",
   "execution_count": 11,
   "id": "42c12d2e",
   "metadata": {},
   "outputs": [
    {
     "data": {
      "text/plain": [
       "(array([ 0,  1,  2,  3,  4,  5,  6,  7,  8,  9, 10, 11, 12, 13, 14, 15, 16,\n",
       "        17, 18, 19, 20, 21, 22, 23, 24, 25, 26]),\n",
       " [Text(0, 0, ' drama '),\n",
       "  Text(1, 0, ' documentary '),\n",
       "  Text(2, 0, ' comedy '),\n",
       "  Text(3, 0, ' short '),\n",
       "  Text(4, 0, ' horror '),\n",
       "  Text(5, 0, ' thriller '),\n",
       "  Text(6, 0, ' action '),\n",
       "  Text(7, 0, ' western '),\n",
       "  Text(8, 0, ' reality-tv '),\n",
       "  Text(9, 0, ' family '),\n",
       "  Text(10, 0, ' adventure '),\n",
       "  Text(11, 0, ' music '),\n",
       "  Text(12, 0, ' romance '),\n",
       "  Text(13, 0, ' sci-fi '),\n",
       "  Text(14, 0, ' adult '),\n",
       "  Text(15, 0, ' crime '),\n",
       "  Text(16, 0, ' animation '),\n",
       "  Text(17, 0, ' sport '),\n",
       "  Text(18, 0, ' talk-show '),\n",
       "  Text(19, 0, ' fantasy '),\n",
       "  Text(20, 0, ' mystery '),\n",
       "  Text(21, 0, ' musical '),\n",
       "  Text(22, 0, ' biography '),\n",
       "  Text(23, 0, ' history '),\n",
       "  Text(24, 0, ' game-show '),\n",
       "  Text(25, 0, ' news '),\n",
       "  Text(26, 0, ' war ')])"
      ]
     },
     "execution_count": 11,
     "metadata": {},
     "output_type": "execute_result"
    },
    {
     "data": {
      "image/png": "[encoded data removed]",
      "text/plain": [
       "<Figure size 1200x800 with 1 Axes>"
      ]
     },
     "metadata": {},
     "output_type": "display_data"
    }
   ],
   "source": [
    "plt.figure(figsize=(12,8))\n",
    "counts = md.Genre.value_counts()\n",
    "sns.barplot(x=counts.index, y=counts)\n",
    "plt.xlabel('Genre')\n",
    "plt.ylabel('Count')\n",
    "plt.xticks(rotation='vertical')"
   ]
  },
  {
   "cell_type": "code",
   "execution_count": 12,
   "id": "b9cba21b",
   "metadata": {},
   "outputs": [],
   "source": [
    "from sklearn.preprocessing import LabelEncoder"
   ]
  },
  {
   "cell_type": "code",
   "execution_count": 13,
   "id": "2e1a5e6e",
   "metadata": {},
   "outputs": [],
   "source": [
    "label_encode = LabelEncoder()"
   ]
  },
  {
   "cell_type": "code",
   "execution_count": 14,
   "id": "246ad5aa",
   "metadata": {},
   "outputs": [],
   "source": [
    "md['genre_count'] = label_encode.fit_transform(md['Genre'])"
   ]
  },
  {
   "cell_type": "code",
   "execution_count": 15,
   "id": "b7fac794",
   "metadata": {},
   "outputs": [
    {
     "data": {
      "text/html": [
       "<div>\n",
       "<style scoped>\n",
       "    .dataframe tbody tr th:only-of-type {\n",
       "        vertical-align: middle;\n",
       "    }\n",
       "\n",
       "    .dataframe tbody tr th {\n",
       "        vertical-align: top;\n",
       "    }\n",
       "\n",
       "    .dataframe thead th {\n",
       "        text-align: right;\n",
       "    }\n",
       "</style>\n",
       "<table border=\"1\" class=\"dataframe\">\n",
       "  <thead>\n",
       "    <tr style=\"text-align: right;\">\n",
       "      <th></th>\n",
       "      <th>Title</th>\n",
       "      <th>Genre</th>\n",
       "      <th>Description</th>\n",
       "      <th>genre_count</th>\n",
       "    </tr>\n",
       "  </thead>\n",
       "  <tbody>\n",
       "    <tr>\n",
       "      <th>1</th>\n",
       "      <td>Oscar et la dame rose (2009)</td>\n",
       "      <td>drama</td>\n",
       "      <td>Listening in to a conversation between his do...</td>\n",
       "      <td>8</td>\n",
       "    </tr>\n",
       "    <tr>\n",
       "      <th>2</th>\n",
       "      <td>Cupid (1997)</td>\n",
       "      <td>thriller</td>\n",
       "      <td>A brother and sister with a past incestuous r...</td>\n",
       "      <td>24</td>\n",
       "    </tr>\n",
       "    <tr>\n",
       "      <th>3</th>\n",
       "      <td>Young, Wild and Wonderful (1980)</td>\n",
       "      <td>adult</td>\n",
       "      <td>As the bus empties the students for their fie...</td>\n",
       "      <td>1</td>\n",
       "    </tr>\n",
       "    <tr>\n",
       "      <th>4</th>\n",
       "      <td>The Secret Sin (1915)</td>\n",
       "      <td>drama</td>\n",
       "      <td>To help their unemployed father make ends mee...</td>\n",
       "      <td>8</td>\n",
       "    </tr>\n",
       "    <tr>\n",
       "      <th>5</th>\n",
       "      <td>The Unrecovered (2007)</td>\n",
       "      <td>drama</td>\n",
       "      <td>The film's title refers not only to the un-re...</td>\n",
       "      <td>8</td>\n",
       "    </tr>\n",
       "  </tbody>\n",
       "</table>\n",
       "</div>"
      ],
      "text/plain": [
       "                                Title       Genre  \\\n",
       "1       Oscar et la dame rose (2009)       drama    \n",
       "2                       Cupid (1997)    thriller    \n",
       "3   Young, Wild and Wonderful (1980)       adult    \n",
       "4              The Secret Sin (1915)       drama    \n",
       "5             The Unrecovered (2007)       drama    \n",
       "\n",
       "                                         Description  genre_count  \n",
       "1   Listening in to a conversation between his do...            8  \n",
       "2   A brother and sister with a past incestuous r...           24  \n",
       "3   As the bus empties the students for their fie...            1  \n",
       "4   To help their unemployed father make ends mee...            8  \n",
       "5   The film's title refers not only to the un-re...            8  "
      ]
     },
     "execution_count": 15,
     "metadata": {},
     "output_type": "execute_result"
    }
   ],
   "source": [
    "md.head()"
   ]
  },
  {
   "cell_type": "code",
   "execution_count": 16,
   "id": "405399d4",
   "metadata": {},
   "outputs": [],
   "source": [
    "ps=PorterStemmer()"
   ]
  },
  {
   "cell_type": "code",
   "execution_count": 17,
   "id": "51eacb22",
   "metadata": {},
   "outputs": [],
   "source": [
    "def transform_text(text):\n",
    "    # Lowercase the text\n",
    "    text = text.lower()\n",
    "\n",
    "    # Tokenization\n",
    "    text = nltk.word_tokenize(text)\n",
    "\n",
    "    # Remove special characters and keep alphanumeric words\n",
    "    text = [i for i in text if i.isalnum()]\n",
    "\n",
    "    # Remove stopwords and punctuation\n",
    "    stop_words = set(stopwords.words(\"english\"))\n",
    "    text = [i for i in text if i not in stop_words and i not in string.punctuation]\n",
    "\n",
    "    # Stemming using Porter Stemmer\n",
    "    text = [ps.stem(i) for i in text]\n",
    "\n",
    "    return \" \".join(text)"
   ]
  },
  {
   "cell_type": "code",
   "execution_count": 18,
   "id": "bc14995a",
   "metadata": {},
   "outputs": [
    {
     "name": "stderr",
     "output_type": "stream",
     "text": [
      "[nltk_data] Downloading package punkt to\n",
      "[nltk_data]     C:\\Users\\solap\\AppData\\Roaming\\nltk_data...\n",
      "[nltk_data]   Package punkt is already up-to-date!\n",
      "[nltk_data] Downloading package stopwords to\n",
      "[nltk_data]     C:\\Users\\solap\\AppData\\Roaming\\nltk_data...\n",
      "[nltk_data]   Package stopwords is already up-to-date!\n"
     ]
    },
    {
     "data": {
      "text/plain": [
       "True"
      ]
     },
     "execution_count": 18,
     "metadata": {},
     "output_type": "execute_result"
    }
   ],
   "source": [
    "nltk.download(\"punkt\")\n",
    "nltk.download('stopwords')"
   ]
  },
  {
   "cell_type": "code",
   "execution_count": 19,
   "id": "e6e7225a",
   "metadata": {},
   "outputs": [],
   "source": [
    "import string"
   ]
  },
  {
   "cell_type": "code",
   "execution_count": 20,
   "id": "3c25d50d",
   "metadata": {},
   "outputs": [],
   "source": [
    "md[\"transformed\"] = md[\"Description\"].apply(transform_text)"
   ]
  },
  {
   "cell_type": "code",
   "execution_count": 21,
   "id": "f3286507",
   "metadata": {},
   "outputs": [
    {
     "data": {
      "text/html": [
       "<div>\n",
       "<style scoped>\n",
       "    .dataframe tbody tr th:only-of-type {\n",
       "        vertical-align: middle;\n",
       "    }\n",
       "\n",
       "    .dataframe tbody tr th {\n",
       "        vertical-align: top;\n",
       "    }\n",
       "\n",
       "    .dataframe thead th {\n",
       "        text-align: right;\n",
       "    }\n",
       "</style>\n",
       "<table border=\"1\" class=\"dataframe\">\n",
       "  <thead>\n",
       "    <tr style=\"text-align: right;\">\n",
       "      <th></th>\n",
       "      <th>Title</th>\n",
       "      <th>Genre</th>\n",
       "      <th>Description</th>\n",
       "      <th>genre_count</th>\n",
       "      <th>transformed</th>\n",
       "    </tr>\n",
       "  </thead>\n",
       "  <tbody>\n",
       "    <tr>\n",
       "      <th>1</th>\n",
       "      <td>Oscar et la dame rose (2009)</td>\n",
       "      <td>drama</td>\n",
       "      <td>Listening in to a conversation between his do...</td>\n",
       "      <td>8</td>\n",
       "      <td>listen convers doctor parent oscar learn nobod...</td>\n",
       "    </tr>\n",
       "    <tr>\n",
       "      <th>2</th>\n",
       "      <td>Cupid (1997)</td>\n",
       "      <td>thriller</td>\n",
       "      <td>A brother and sister with a past incestuous r...</td>\n",
       "      <td>24</td>\n",
       "      <td>brother sister past incestu relationship curre...</td>\n",
       "    </tr>\n",
       "    <tr>\n",
       "      <th>3</th>\n",
       "      <td>Young, Wild and Wonderful (1980)</td>\n",
       "      <td>adult</td>\n",
       "      <td>As the bus empties the students for their fie...</td>\n",
       "      <td>1</td>\n",
       "      <td>bu empti student field trip museum natur histo...</td>\n",
       "    </tr>\n",
       "    <tr>\n",
       "      <th>4</th>\n",
       "      <td>The Secret Sin (1915)</td>\n",
       "      <td>drama</td>\n",
       "      <td>To help their unemployed father make ends mee...</td>\n",
       "      <td>8</td>\n",
       "      <td>help unemploy father make end meet edith twin ...</td>\n",
       "    </tr>\n",
       "    <tr>\n",
       "      <th>5</th>\n",
       "      <td>The Unrecovered (2007)</td>\n",
       "      <td>drama</td>\n",
       "      <td>The film's title refers not only to the un-re...</td>\n",
       "      <td>8</td>\n",
       "      <td>film titl refer bodi ground zero also state na...</td>\n",
       "    </tr>\n",
       "  </tbody>\n",
       "</table>\n",
       "</div>"
      ],
      "text/plain": [
       "                                Title       Genre  \\\n",
       "1       Oscar et la dame rose (2009)       drama    \n",
       "2                       Cupid (1997)    thriller    \n",
       "3   Young, Wild and Wonderful (1980)       adult    \n",
       "4              The Secret Sin (1915)       drama    \n",
       "5             The Unrecovered (2007)       drama    \n",
       "\n",
       "                                         Description  genre_count  \\\n",
       "1   Listening in to a conversation between his do...            8   \n",
       "2   A brother and sister with a past incestuous r...           24   \n",
       "3   As the bus empties the students for their fie...            1   \n",
       "4   To help their unemployed father make ends mee...            8   \n",
       "5   The film's title refers not only to the un-re...            8   \n",
       "\n",
       "                                         transformed  \n",
       "1  listen convers doctor parent oscar learn nobod...  \n",
       "2  brother sister past incestu relationship curre...  \n",
       "3  bu empti student field trip museum natur histo...  \n",
       "4  help unemploy father make end meet edith twin ...  \n",
       "5  film titl refer bodi ground zero also state na...  "
      ]
     },
     "execution_count": 21,
     "metadata": {},
     "output_type": "execute_result"
    }
   ],
   "source": [
    "md.head()"
   ]
  },
  {
   "cell_type": "code",
   "execution_count": 22,
   "id": "a454d906",
   "metadata": {},
   "outputs": [],
   "source": [
    "from sklearn.feature_extraction.text import CountVectorizer , TfidfVectorizer\n",
    "cv = CountVectorizer()\n",
    "tfidf = TfidfVectorizer(max_features=9000)"
   ]
  },
  {
   "cell_type": "code",
   "execution_count": 23,
   "id": "f5e9e7cb",
   "metadata": {},
   "outputs": [],
   "source": [
    "X_data = tfidf.fit_transform(md[\"transformed\"]).toarray()"
   ]
  },
  {
   "cell_type": "code",
   "execution_count": 24,
   "id": "a16346fa",
   "metadata": {},
   "outputs": [],
   "source": [
    "from sklearn.preprocessing import MinMaxScaler\n",
    "scale = MinMaxScaler()\n",
    "X_data = scale.fit_transform(X_data)"
   ]
  },
  {
   "cell_type": "code",
   "execution_count": 25,
   "id": "e4adb0a5",
   "metadata": {},
   "outputs": [
    {
     "data": {
      "text/plain": [
       "(54214, 9000)"
      ]
     },
     "execution_count": 25,
     "metadata": {},
     "output_type": "execute_result"
    }
   ],
   "source": [
    "X_data.shape"
   ]
  },
  {
   "cell_type": "code",
   "execution_count": 26,
   "id": "31d78ce1",
   "metadata": {},
   "outputs": [
    {
     "data": {
      "text/plain": [
       "1               drama \n",
       "2            thriller \n",
       "3               adult \n",
       "4               drama \n",
       "5               drama \n",
       "             ...      \n",
       "54210          comedy \n",
       "54211          horror \n",
       "54212     documentary \n",
       "54213          comedy \n",
       "54214         history \n",
       "Name: Genre, Length: 54214, dtype: object"
      ]
     },
     "execution_count": 26,
     "metadata": {},
     "output_type": "execute_result"
    }
   ],
   "source": [
    "y_train = md.Genre\n",
    "y_train"
   ]
  },
  {
   "cell_type": "code",
   "execution_count": 27,
   "id": "958ffa3f",
   "metadata": {},
   "outputs": [],
   "source": [
    "from sklearn.model_selection import train_test_split\n",
    "X_train,X_test,Y_train,Y_test = train_test_split(X_data,y_train,test_size = 0.2, random_state=2)"
   ]
  },
  {
   "cell_type": "code",
   "execution_count": 28,
   "id": "ca893514",
   "metadata": {},
   "outputs": [],
   "source": [
    "from sklearn.naive_bayes import GaussianNB,MultinomialNB,BernoulliNB\n",
    "from sklearn.linear_model import LogisticRegression\n",
    "from sklearn.metrics import accuracy_score,confusion_matrix,precision_score,f1_score"
   ]
  },
  {
   "cell_type": "code",
   "execution_count": 29,
   "id": "b08c3334",
   "metadata": {},
   "outputs": [],
   "source": [
    "lrc = LogisticRegression(solver = 'liblinear',penalty = 'l1')\n",
    "gnb = GaussianNB()\n",
    "mnb = MultinomialNB()\n",
    "bnb = BernoulliNB()"
   ]
  },
  {
   "cell_type": "code",
   "execution_count": 30,
   "id": "20014d93",
   "metadata": {},
   "outputs": [
    {
     "name": "stdout",
     "output_type": "stream",
     "text": [
      "0.5492944756986073\n",
      "[[  71    1    0    0    0   30    0   30  105    0    0    0    0    9\n",
      "     0    0    0    0    0    0    1    6    3    0    8    0    4]\n",
      " [   1   33   10    0    0   53    0    4   25    0    0    0    0    3\n",
      "     1    0    0    0    0    0    0    5    0    0    1    0    0]\n",
      " [   7    9   19    0    0   24    0   39   35    1    0    0    0    4\n",
      "     0    0    0    0    1    0    0    6    0    0    1    0    2]\n",
      " [   7    0    0    0    0   21    0   25   18    2    0    0    0    5\n",
      "     0    0    0    0    0    0    2   10    0    0    0    0    0]\n",
      " [   0    0    0    0    0    5    0   33   10    0    0    0    0    1\n",
      "     0    0    0    0    0    0    0    1    0    0    1    0    0]\n",
      " [  12    0    0    0    0  843    0  104  470    1    0    0    0   10\n",
      "     7    0    0    0    3    0    0   26    0    1    1    0    1]\n",
      " [   8    0    0    0    0   22    0   10   58    0    0    0    0    8\n",
      "     0    0    0    0    0    0    0    0    0    0    9    0    1]\n",
      " [   2    0    3    0    0   63    0 2166  256    0    0    0    0   11\n",
      "    18    0    0    0    6    0    2   79    6    0    1    0    2]\n",
      " [  12    1    1    1    0  223    2  305 1998    1    0    0    0   18\n",
      "     0    0    0    0    1    0    0   95    0    0   20    0    9]\n",
      " [   0    0    0    0    0   43    0   46   61    5    0    0    0    2\n",
      "     3    0    0    0    2    0    0    8    0    0    0    0    0]\n",
      " [   4    0    0    0    0    9    0   11   28    0    0    0    0    8\n",
      "     1    0    0    0    0    0    1    7    0    0    0    0    1]\n",
      " [   0    0    0    0    0   11    0    6    1    0    0   10    0    0\n",
      "     0    0    0    0    1    0    0    3    0    0    0    0    0]\n",
      " [   0    0    0    0    0    1    0   44   10    0    0    0    0    0\n",
      "     0    0    0    0    0    0    0    0    0    0    0    0    1]\n",
      " [   5    0    0    0    0   32    0   26  105    0    0    0    0  278\n",
      "     0    0    0    0    1    0    0   10    0    0   10    0    1]\n",
      " [   0    0    0    0    0   11    0   61    4    0    0    0    0    1\n",
      "    56    0    0    0    1    0    0    4    0    0    0    0    0]\n",
      " [   0    0    0    0    0   13    0   15   21    0    0    0    0    1\n",
      "     9    0    0    0    0    0    0    5    0    0    0    0    0]\n",
      " [   1    0    0    0    0   12    0    6   29    0    0    0    0    8\n",
      "     0    0    0    0    0    0    0    4    0    0    7    0    0]\n",
      " [   0    0    0    0    0    3    0   32    2    0    0    0    0    0\n",
      "     0    0    0    0    1    0    0    0    0    0    0    0    0]\n",
      " [   0    0    0    0    0   44    0   99   15    0    0    1    0    2\n",
      "     1    0    0    0   25    0    0    9    0    0    0    0    0]\n",
      " [   0    0    0    0    0   33    0    6  120    0    0    0    0    0\n",
      "     0    0    0    0    0    0    0    2    0    0    0    0    0]\n",
      " [   9    1    0    0    0    4    0   36   38    0    0    0    0   17\n",
      "     0    0    0    0    0    0   20   11    0    0    0    0    0]\n",
      " [   3    0    2    0    0   95    0  311  315    0    0    0    0   17\n",
      "     4    0    0    0    0    0    2  235    1    0    2    0    4]\n",
      " [   2    0    0    0    0    9    0   55    2    0    0    0    0    0\n",
      "     1    0    0    0    0    0    0    3   20    0    0    0    0]\n",
      " [   0    0    0    0    0   13    0   50    0    0    0    0    0    0\n",
      "     2    0    0    0    4    0    0    1    0    3    0    0    0]\n",
      " [   8    0    0    0    0   29    0   18  175    0    0    0    0   25\n",
      "     0    0    0    0    0    0    0    5    0    0   26    0    1]\n",
      " [   2    0    0    0    0    2    0    8    8    0    0    0    0    0\n",
      "     0    0    0    0    0    0    0    2    0    0    0    0    0]\n",
      " [   1    0    0    0    0    4    0    6   31    0    0    0    0    1\n",
      "     0    0    0    0    0    0    0    1    0    0    0    0  148]]\n",
      "0.5492944756986073\n",
      "0.5492944756986073\n"
     ]
    }
   ],
   "source": [
    "mnb.fit(X_train,Y_train)\n",
    "y_pred2 = mnb.predict(X_test)\n",
    "print(accuracy_score(Y_test,y_pred2))\n",
    "print(confusion_matrix(Y_test,y_pred2))\n",
    "print(precision_score(Y_test,y_pred2,average='micro'))\n",
    "print(f1_score(Y_test, y_pred2, average=\"micro\"))"
   ]
  },
  {
   "cell_type": "code",
   "execution_count": 31,
   "id": "59ce37d8",
   "metadata": {},
   "outputs": [
    {
     "name": "stdout",
     "output_type": "stream",
     "text": [
      "0.21202619201328046\n",
      "[[ 37   4   9   4   1  31   3  23  31   6   5   0   1  15   1   1   5   0\n",
      "    0   4   4  52   2   1  23   0   5]\n",
      " [  3  21   6   0   0  31   0   2  10   0   0   0   0  18   1   1   1   0\n",
      "    0   1   0  34   0   0   7   0   0]\n",
      " [  8   3  13   2   1  17   0  14  11   2   1   0   0  21   1   0   0   0\n",
      "    0   4   3  34   2   0  10   0   1]\n",
      " [  6   0   5   3   1  10   2   7   6   5   1   0   0   6   1   0   3   0\n",
      "    2   1   2  24   0   0   5   0   0]\n",
      " [  3   0   1   0   0   8   0   9   8   0   0   0   0   3   4   0   0   0\n",
      "    1   0   0  12   0   0   2   0   0]\n",
      " [ 56  17  34  12   4 405  19  52 111  34   8   0   2  95  15   7  10   1\n",
      "   33  41  10 362   3   4 126   1  17]\n",
      " [ 13   2   3   2   0  20   9   4  14   5   0   0   0   9   0   0   1   0\n",
      "    1   1   3  15   0   0  10   0   4]\n",
      " [ 73   5  32  18  22 194  16 804 107  43   5   0   4  99  47   1   7   0\n",
      "   54  18  22 923  17   9  95   0   0]\n",
      " [133  28  55  21  12 453  44 194 359  45  19   0  15 181  13  15  26   0\n",
      "   35  79  26 649   3   4 249   1  28]\n",
      " [ 10   0   2   7   0  23   1  17  14  12   0   0   1   7   1   1   1   1\n",
      "    5   5   4  43   1   1  13   0   0]\n",
      " [  6   1   3   1   0   6   1   8   8   3   2   0   0   5   2   0   0   0\n",
      "    0   0   2  17   0   0   5   0   0]\n",
      " [  1   0   3   1   0   4   0   3   1   1   1   2   0   1   1   0   0   0\n",
      "    1   0   0  11   0   0   1   0   0]\n",
      " [  5   0   0   0   0   3   1  19   3   1   1   0   2   1   0   0   0   0\n",
      "    0   0   1  15   0   0   3   0   1]\n",
      " [ 26   2  15   5   0  47   2  31  34   2   4   0   1 108   3   0   3   0\n",
      "    2   6  10  89   0   0  74   1   3]\n",
      " [  1   2   1   0   1  22   0  38   5   0   0   0   1   3  15   2   0   0\n",
      "    3   0   0  34   1   5   4   0   0]\n",
      " [  3   0   1   0   0  16   2   7   3   0   1   0   0   3   1   1   0   0\n",
      "    1   0   0  23   0   0   2   0   0]\n",
      " [  2   0   3   0   0  17   2   1   6   1   1   0   0   5   0   0   2   0\n",
      "    2   2   2  14   0   0   7   0   0]\n",
      " [  1   0   1   0   0   2   0   8   0   0   0   0   1   2   0   0   0   0\n",
      "    2   0   2  15   3   1   0   0   0]\n",
      " [  6   1   5   1   0  41   1  25   6   5   1   0   1   6   6   0   1   0\n",
      "   20   0   2  60   0   2   5   0   1]\n",
      " [ 10   0   3   1   0  29   3   9  34   0   0   0   1   7   2   2   3   0\n",
      "    3   7   2  30   0   1  14   0   0]\n",
      " [ 12   2   2   1   2   7   0  19   4   3   0   0   0  23   1   0   3   0\n",
      "    1   2   8  38   0   0   8   0   0]\n",
      " [ 44  12  19  15   7  90  12 103  35  35   8   0   3  82  18   3   5   3\n",
      "   16  10  16 349   2   5  93   0   6]\n",
      " [  4   0   0   1   0  15   0  30   4   1   0   0   0   2   1   0   0   0\n",
      "    2   0   0  24   5   1   2   0   0]\n",
      " [  0   0   0   0   0   9   1  18   3   1   0   0   0   3   3   0   0   3\n",
      "    8   1   0  16   0   5   2   0   0]\n",
      " [ 22   4  13   3   0  34   7  24  30   5   2   0   0  17   2   1   3   0\n",
      "    1   7   8  48   0   2  52   0   2]\n",
      " [  0   0   2   0   0   1   0   5   5   0   0   0   0   1   0   0   0   0\n",
      "    1   0   0   6   0   0   0   1   0]\n",
      " [  6   0   4   0   0  29   0  14  42   0   0   0   2   4   1   1   0   0\n",
      "    0   0   1  26   0   0   5   0  57]]\n",
      "0.1642156127850554\n",
      "0.21202619201328046\n"
     ]
    }
   ],
   "source": [
    "gnb.fit(X_train,Y_train)\n",
    "y_pred1 = gnb.predict(X_test)\n",
    "print(accuracy_score(Y_test,y_pred1))\n",
    "print(confusion_matrix(Y_test,y_pred1))\n",
    "print(precision_score(Y_test,y_pred1,average='macro'))\n",
    "print(f1_score(Y_test, y_pred1, average=\"micro\"))"
   ]
  },
  {
   "cell_type": "code",
   "execution_count": 32,
   "id": "5e5f1ea6",
   "metadata": {},
   "outputs": [
    {
     "name": "stdout",
     "output_type": "stream",
     "text": [
      "0.532325002305635\n",
      "[[ 115    0    2    0    0   28    1   16   46    1    0    0    0    6\n",
      "     1    0    0    0    0    5    7   20    2    0   16    0    2]\n",
      " [   1   52   10    0    0   39    0    1    7    0    0    0    0    2\n",
      "     1    0    0    0    0    0    0   20    0    0    2    0    1]\n",
      " [  10   14   25    1    0   19    0   17   23    0    2    0    0    7\n",
      "     0    0    0    0    6    0    2   18    0    0    1    0    3]\n",
      " [   5    0    4    9    0   22    0   10   10    3    1    0    0    2\n",
      "     0    0    0    0    1    0    4   19    0    0    0    0    0]\n",
      " [   1    0    0    0    2    3    0   26    4    0    1    0    0    2\n",
      "     2    1    0    0    0    1    0    7    0    0    1    0    0]\n",
      " [  22    4    3    4    1  929    6   38  227    5    0    0    0   15\n",
      "    11    1    9    0   14   37    2  120    1    6   17    0    7]\n",
      " [  19    0    0    0    0   24    4    3   26    0    0    0    0    8\n",
      "     0    0    2    0    0    0    0    6    0    0   23    0    1]\n",
      " [  13    1   11    2   25   75    3 1799  167    2    5    0    8   15\n",
      "    74    1    6    3   44    1   18  299   23    5    9    4    2]\n",
      " [  44    5    7    2    3  362    9  183 1515    3    2    0    1   36\n",
      "     2    0   11    0    5   79    3  319    0    5   70    2   19]\n",
      " [   2    0    1    0    0   32    0   21   38   21    0    1    0    4\n",
      "     8    0    0    0    7    5    1   27    0    1    1    0    0]\n",
      " [  11    1    4    0    0    9    0    2   12    3    3    0    0    8\n",
      "     1    0    0    0    0    0    2   13    0    0    1    0    0]\n",
      " [   1    0    0    0    0   10    0    1    0    0    0    7    0    0\n",
      "     0    0    0    0    9    0    0    4    0    0    0    0    0]\n",
      " [   3    0    0    0    0    0    1   38    7    0    0    0    0    1\n",
      "     0    0    0    0    0    0    0    5    0    0    0    0    1]\n",
      " [   7    2    1    1    0   26    0   13   33    0    2    0    0  304\n",
      "     2    0    3    0    3    0    5   40    0    0   21    1    4]\n",
      " [   0    0    0    0    0   13    0   15    1    0    0    0    0    1\n",
      "    94    2    0    0    2    0    0    9    0    0    0    0    1]\n",
      " [   0    0    0    1    0   12    0    7   15    2    0    0    0    1\n",
      "    14    1    0    0    0    1    0   10    0    0    0    0    0]\n",
      " [   1    0    0    0    0   13    1    2    8    0    0    0    0    9\n",
      "     0    0    4    0    0    0    1   14    0    0   14    0    0]\n",
      " [   1    0    0    0    0    3    1   17    0    0    0    0    0    0\n",
      "     1    0    0    0    5    0    0   10    0    0    0    0    0]\n",
      " [   3    0    1    0    0   34    0   41    5    0    0    0    0    2\n",
      "     5    0    0    0   71    0    0   33    0    1    0    0    0]\n",
      " [   1    1    1    0    0   37    0    4   93    0    0    0    0    0\n",
      "     0    0    0    0    0   17    0    7    0    0    0    0    0]\n",
      " [  14    1    0    0    0   10    0   10   14    0    0    0    0   15\n",
      "     0    0    1    0    1    0   49   20    0    0    1    0    0]\n",
      " [   9    1    2    0    2  125    0  175  149    8    2    0    0   12\n",
      "     5    1    2    0    7    3    6  458    3    1   17    0    3]\n",
      " [   1    0    0    0    0    8    0   19    1    1    0    0    0    0\n",
      "     2    0    0    0    8    0    0   11   41    0    0    0    0]\n",
      " [   0    0    0    0    0    9    0   23    0    1    0    0    0    1\n",
      "     4    0    0    0   10    0    0   12    1   12    0    0    0]\n",
      " [  15    1    1    0    0   38    3    6   74    0    0    0    0   33\n",
      "     0    0    2    0    0    6    1   29    0    0   78    0    0]\n",
      " [   6    0    0    0    0    1    0    3    5    0    0    0    0    0\n",
      "     0    0    1    0    0    0    0    4    0    0    0    2    0]\n",
      " [   2    0    0    0    0   10    0    1   11    0    0    0    0    2\n",
      "     0    1    0    0    0    0    0    5    0    0    0    0  160]]\n",
      "0.37243570992631736\n",
      "0.532325002305635\n"
     ]
    }
   ],
   "source": [
    "bnb.fit(X_train,Y_train)\n",
    "y_pred3 = bnb.predict(X_test)\n",
    "print(accuracy_score(Y_test,y_pred3))\n",
    "print(confusion_matrix(Y_test,y_pred3))\n",
    "print(precision_score(Y_test,y_pred3,average='macro'))\n",
    "print(f1_score(Y_test, y_pred3, average=\"micro\"))"
   ]
  },
  {
   "cell_type": "code",
   "execution_count": 33,
   "id": "5824bd53",
   "metadata": {},
   "outputs": [
    {
     "name": "stdout",
     "output_type": "stream",
     "text": [
      "0.5770543207599372\n",
      "[[  75    0    2    1    0   31    4   17   85    3    0    0    1    9\n",
      "     0    0    0    0    0    0    5   11    4    0   12    1    7]\n",
      " [   1   47    8    0    0   31    0    6   23    0    0    0    0    3\n",
      "     0    0    0    0    0    0    0   14    0    0    2    0    1]\n",
      " [   7    6   29    1    0   23    0   24   34    1    1    0    0    1\n",
      "     0    0    0    0    5    0    2   10    0    0    2    0    2]\n",
      " [   6    0    1   17    0   15    0   11   17    6    1    0    0    3\n",
      "     0    0    0    0    0    0    2   11    0    0    0    0    0]\n",
      " [   0    0    0    0    0    6    0   32   10    0    0    0    0    1\n",
      "     0    0    0    0    0    0    0    1    0    0    1    0    0]\n",
      " [  14    4    0    0    0  877    2   64  406    2    1    0    0   20\n",
      "     1    2    0    0    5    2    5   63    1    5    3    1    1]\n",
      " [  17    0    0    0    0   19    4    8   45    0    0    0    0   10\n",
      "     0    0    0    0    0    0    0    3    1    0    8    0    1]\n",
      " [   4    4    2    2    0   62    0 2130  241    4    1    1    0    6\n",
      "    16    2    1    0    7    1    4  105   14    3    2    2    1]\n",
      " [  18    2    4    0    0  245    2  235 1993    2    1    0    0   19\n",
      "     1    0    4    0    4    2    1  125    2    1   17    1    8]\n",
      " [   1    0    2    5    0   29    0   27   53   21    0    2    0    2\n",
      "     3    0    0    0    3    1    1   14    2    4    0    0    0]\n",
      " [   4    0    0    2    1    9    0    6   21    1    7    0    1    4\n",
      "     1    0    0    0    1    0    3    8    0    0    1    0    0]\n",
      " [   0    0    0    1    0    5    0    3    0    0    0   20    0    0\n",
      "     0    0    0    0    2    0    0    1    0    0    0    0    0]\n",
      " [   0    0    0    0    0    0    0   39   13    0    0    0    1    0\n",
      "     0    0    0    0    0    0    0    2    0    0    0    0    1]\n",
      " [   5    1    0    0    0   21    0   25   77    0    0    0    0  287\n",
      "     0    0    0    0    1    0    4   23    1    0   22    0    1]\n",
      " [   0    0    0    1    0   15    0   49    4    0    0    0    0    0\n",
      "    63    0    0    0    1    0    0    4    1    0    0    0    0]\n",
      " [   0    0    0    0    0   10    0    7   28    0    0    0    0    0\n",
      "    12    3    0    0    0    0    0    4    0    0    0    0    0]\n",
      " [   0    0    0    0    0    8    0    5   28    0    0    0    0    7\n",
      "     0    0    3    0    0    0    1    5    0    0    9    0    1]\n",
      " [   0    0    0    1    0    3    0   22    2    0    0    0    0    1\n",
      "     1    0    0    2    3    0    0    2    0    1    0    0    0]\n",
      " [   0    0    2    2    0   33    0   72   20    0    0    1    0    1\n",
      "     0    0    0    2   42    0    0   16    2    3    0    0    0]\n",
      " [   2    0    0    0    0   38    0    4  108    0    0    0    0    0\n",
      "     0    0    0    0    0    6    0    3    0    0    0    0    0]\n",
      " [   9    1    1    1    0    7    0   19   28    1    1    0    0   11\n",
      "     0    0    1    0    0    0   42   12    0    0    2    0    0]\n",
      " [   5    0    1    5    0   96    2  263  259    5    0    1    0   11\n",
      "     2    1    0    1    2    0    2  324    0    1    7    0    3]\n",
      " [   3    0    0    0    0    6    0   32    3    0    0    0    0    0\n",
      "     0    0    0    0    2    0    1    5   40    0    0    0    0]\n",
      " [   0    1    0    0    1    5    0   25    4    2    0    1    0    0\n",
      "     2    0    0    1    5    0    0    1    1   24    0    0    0]\n",
      " [  11    1    1    0    0   24    1   11  134    0    0    1    0   32\n",
      "     0    0    3    0    0    0    3   15    0    0   48    0    2]\n",
      " [   1    0    0    0    0    2    0    4    9    0    0    0    0    0\n",
      "     0    0    0    0    0    0    0    2    0    0    0    4    0]\n",
      " [   2    0    0    0    0    5    0   10   26    0    0    0    0    0\n",
      "     0    0    0    0    0    0    0    1    0    0    0    0  148]]\n",
      "0.5770543207599372\n",
      "0.3392716112672056\n"
     ]
    }
   ],
   "source": [
    "lrc.fit(X_train,Y_train)\n",
    "y_pred4 = lrc.predict(X_test)\n",
    "print(accuracy_score(Y_test,y_pred4))\n",
    "print(confusion_matrix(Y_test,y_pred4))\n",
    "print(precision_score(Y_test,y_pred4,average='micro'))\n",
    "print(f1_score(Y_test, y_pred4, average=\"macro\"))"
   ]
  },
  {
   "cell_type": "code",
   "execution_count": 34,
   "id": "72ece9d4",
   "metadata": {},
   "outputs": [
    {
     "name": "stdout",
     "output_type": "stream",
     "text": [
      "Predicted Genre:  drama \n"
     ]
    }
   ],
   "source": [
    "new_movie_description  = \"Muthuvel Pandian is a retired jailer living happily with his wife, son, daughter-in-law and grandson. His son who is an Assistant Commissioner of police goes missing while investigating the case of missing temple idols and is presumed dead. The story is about how Muthuvel Pandian goes toe to toe against Varma, the mastermind behind large-scale smuggling of temple idols and treasures, and avenges his son..\"\n",
    "SMS_transform = transform_text(new_movie_description)\n",
    "vector_input = tfidf.transform([SMS_transform])\n",
    "predicted_genre = lrc.predict(vector_input)\n",
    "print(\"Predicted Genre:\", predicted_genre[0])"
   ]
  },
  {
   "cell_type": "code",
   "execution_count": 37,
   "id": "f7fc72ae",
   "metadata": {},
   "outputs": [
    {
     "data": {
      "image/png": "[encoded data removed]",
      "text/plain": [
       "<Figure size 1200x600 with 3 Axes>"
      ]
     },
     "metadata": {},
     "output_type": "display_data"
    }
   ],
   "source": [
    "# Classifier names and their corresponding metrics\n",
    "classifiers = ['Multinomial Naive Bayes', 'Gaussian Naive Bayes', 'Bernoulli Naive Bayes', 'Logistic Regression']\n",
    "accuracy_scores = [accuracy_score(Y_test, y_pred2), accuracy_score(Y_test, y_pred1), accuracy_score(Y_test, y_pred3), accuracy_score(Y_test, y_pred4)]\n",
    "precision_scores = [precision_score(Y_test, y_pred2, average='micro'), precision_score(Y_test, y_pred1, average='macro'), precision_score(Y_test, y_pred3, average='macro'), precision_score(Y_test, y_pred4, average='micro')]\n",
    "f1_scores = [f1_score(Y_test, y_pred2, average='micro'), f1_score(Y_test, y_pred1, average='micro'), f1_score(Y_test, y_pred3, average='micro'), f1_score(Y_test, y_pred4, average='macro')]\n",
    "\n",
    "# Create subplots for each metric\n",
    "plt.figure(figsize=(12, 6))\n",
    "\n",
    "plt.subplot(1, 3, 1)\n",
    "plt.bar(classifiers, accuracy_scores, color='skyblue')\n",
    "plt.ylabel('Accuracy')\n",
    "plt.title('Classifier Accuracy')\n",
    "plt.xticks(rotation='vertical')\n",
    "plt.subplot(1, 3, 2)\n",
    "plt.bar(classifiers, precision_scores, color='lightgreen')\n",
    "plt.ylabel('Precision')\n",
    "plt.title('Classifier Precision (micro/macro)')\n",
    "plt.xticks(rotation='vertical')\n",
    "plt.subplot(1, 3, 3)\n",
    "plt.bar(classifiers, f1_scores, color='lightcoral')\n",
    "plt.ylabel('F1-Score')\n",
    "plt.title('Classifier F1-Score (micro/macro)')\n",
    "plt.xticks(rotation='vertical')\n",
    "plt.tight_layout()\n",
    "plt.show()\n",
    "\n",
    "predicted_genre_cleaned = predicted_genre[0].strip()"
   ]
  },
  {
   "cell_type": "code",
   "execution_count": null,
   "id": "89845020",
   "metadata": {},
   "outputs": [],
   "source": []
  }
 ],
 "metadata": {
  "kernelspec": {
   "display_name": "Python 3 (ipykernel)",
   "language": "python",
   "name": "python3"
  },
  "language_info": {
   "codemirror_mode": {
    "name": "ipython",
    "version": 3
   },
   "file_extension": ".py",
   "mimetype": "text/x-python",
   "name": "python",
   "nbconvert_exporter": "python",
   "pygments_lexer": "ipython3",
   "version": "3.9.13"
  }
 },
 "nbformat": 4,
 "nbformat_minor": 5
}
